{
 "cells": [
  {
   "cell_type": "code",
   "execution_count": null,
   "id": "2ad8fde8",
   "metadata": {},
   "outputs": [],
   "source": [
    "# Nutrition Facts from McDonald's Menu`s\n"
   ]
  },
  {
   "cell_type": "code",
   "execution_count": null,
   "id": "95dccc96",
   "metadata": {},
   "outputs": [],
   "source": [
    "# TOP 10 higher in sodium\n",
    "\n",
    "|   Category  |                          Item                               |  Sodium  |\n",
    "|:-----------:|:-----------------------------------------------------------:|:--------:|\n",
    "| Chicken&Fish| Chicken McNuggets (40 piece)                                |  3600    |\n",
    "| Breakfast   | RBig Breakfast with Hotcakes and Egg Whites (Large Biscuit) |  2290    |\n",
    "| Breakfast   | Big Breakfast with Hotcakes (Large Biscuit)                 |  2260    |\n",
    "| Breakfast   | Big Breakfast with Hotcakes and Egg Whites (Regular Biscuit)|  2170    |\n",
    "| Breakfast   | Big Breakfast with Hotcakes (Regular Biscuit)               |  2150    |\n",
    "| Breakfast   | Chicken McNuggets (20 piece)                                |  1800    |\n",
    "| Chicken&Fish| Bacon Clubhouse Crispy Chicken Sandwich                     |  1720    |\n",
    "| Chicken&Fish| Big Breakfast with Egg Whites (Large Biscuit)               |  1700    |\n",
    "| Breakfast   | Big Breakfast (Large Biscuit)                               |  1680    |\n"
   ]
  }
 ],
 "metadata": {
  "kernelspec": {
   "display_name": "Python 3 (ipykernel)",
   "language": "python",
   "name": "python3"
  },
  "language_info": {
   "codemirror_mode": {
    "name": "ipython",
    "version": 3
   },
   "file_extension": ".py",
   "mimetype": "text/x-python",
   "name": "python",
   "nbconvert_exporter": "python",
   "pygments_lexer": "ipython3",
   "version": "3.11.4"
  }
 },
 "nbformat": 4,
 "nbformat_minor": 5
}
